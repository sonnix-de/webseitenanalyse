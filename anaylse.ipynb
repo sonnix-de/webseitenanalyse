{
 "cells": [
  {
   "cell_type": "markdown",
   "metadata": {},
   "source": [
    "# ein Python programm zur Analyse eine .har datei\n",
    "\n",
    "\n",
    "Es soll eine Webseite analyiert werden, in der eine har datei geprüft wird"
   ]
  },
  {
   "cell_type": "code",
   "execution_count": null,
   "metadata": {},
   "outputs": [],
   "source": [
    "import json\n",
    "from haralyzer import HarParser\n",
    "import pandas as pd\n",
    "import matplotlib.pyplot as plt\n",
    "\n",
    "# Laden der HAR-Datei\n",
    "with open('example.har', 'r') as f:\n",
    "    har_data = json.load(f)\n",
    "\n",
    "# Initialisieren des HarParser\n",
    "har_parser = HarParser(har_data)\n",
    "\n",
    "# Erstellen einer Liste für die Daten und URLs\n",
    "data = []\n",
    "urls = []"
   ]
  },
  {
   "cell_type": "code",
   "execution_count": null,
   "metadata": {},
   "outputs": [],
   "source": [
    "# Durchlaufen aller Seiten in der HAR-Datei\n",
    "for page in har_parser.pages:\n",
    "    for entry in page.entries:\n",
    "        url = entry['request']['url']\n",
    "        domain = url.split('/')[2]\n",
    "        bytes_transferred = entry['response']['bodySize']\n",
    "        \n",
    "        # Hinzufügen der Daten zur Liste\n",
    "        data.append({'domain': domain, 'bytes': bytes_transferred})\n",
    "        # Hinzufügen der URL zur Liste\n",
    "        urls.append(url)\n",
    "\n",
    "\n"
   ]
  },
  {
   "cell_type": "code",
   "execution_count": null,
   "metadata": {},
   "outputs": [],
   "source": [
    "\n",
    "# Erstellen eines DataFrames aus der Liste\n",
    "df = pd.DataFrame(data)\n",
    "\n",
    "# Gruppieren nach Domain und Summieren der übertragenen Bytes\n",
    "domain_data = df.groupby('domain').sum().reset_index()\n",
    "\n",
    "# Erstellen des Kuchendiagramms\n",
    "plt.figure(figsize=(10, 7))\n",
    "plt.pie(domain_data['bytes'], labels=domain_data['domain'], autopct='%1.1f%%', startangle=140)\n",
    "plt.axis('equal')  # Gleichmäßiges Kreisdiagramm\n",
    "plt.title('Datenverteilung nach Domain')\n",
    "plt.show()\n",
    "\n",
    "print(\"HAR-Datei und URL-Liste wurden erfolgreich erstellt.\")"
   ]
  },
  {
   "cell_type": "code",
   "execution_count": null,
   "metadata": {},
   "outputs": [],
   "source": [
    "print (urls)\n",
    "for url in urls:\n",
    "    print (url)\n"
   ]
  }
 ],
 "metadata": {
  "kernelspec": {
   "display_name": ".venv",
   "language": "python",
   "name": "python3"
  },
  "language_info": {
   "codemirror_mode": {
    "name": "ipython",
    "version": 3
   },
   "file_extension": ".py",
   "mimetype": "text/x-python",
   "name": "python",
   "nbconvert_exporter": "python",
   "pygments_lexer": "ipython3",
   "version": "3.11.2"
  }
 },
 "nbformat": 4,
 "nbformat_minor": 2
}
